{
  "cells": [
    {
      "cell_type": "code",
      "execution_count": 1,
      "metadata": {
        "id": "XxIRYoe627tK"
      },
      "outputs": [],
      "source": [
        "import tensorflow as tf\n",
        "import numpy as np\n",
        "import pandas as pd\n",
        "import string\n",
        "import re\n",
        "\n",
        "from tensorflow.keras.layers import Dense, Flatten, Input, concatenate, Embedding, LSTM, TextVectorization, Bidirectional, Dropout"
      ]
    },
    {
      "cell_type": "code",
      "execution_count": 2,
      "metadata": {
        "id": "Poc012JAmv-N"
      },
      "outputs": [],
      "source": [
        "ENGLISH_STOP_WORDS = [\n",
        "    'a','s','i',\n",
        "    '000', '2014',\n",
        "    'about',\n",
        "    'above',\n",
        "    'across',\n",
        "    'after',\n",
        "    'afterwards',\n",
        "    'again',\n",
        "    'ain',\n",
        "    'all',\n",
        "    'almost',\n",
        "    'alone',\n",
        "    'along',\n",
        "    'already',\n",
        "    'also',\n",
        "    'although',\n",
        "    'always',\n",
        "    'am',\n",
        "    'among',\n",
        "    'amongst',\n",
        "    'amoungst',\n",
        "    'amount',\n",
        "    'an',\n",
        "    'and',\n",
        "    'another',\n",
        "    'any',\n",
        "    'anyhow',\n",
        "    'anyone',\n",
        "    'anything',\n",
        "    'anyway',\n",
        "    'anywhere',\n",
        "    'are',\n",
        "    'aren',\n",
        "    'around',\n",
        "    'as',\n",
        "    'at',\n",
        "    'back',\n",
        "    'be',\n",
        "    'became',\n",
        "    'because',\n",
        "    'become',\n",
        "    'becomes',\n",
        "    'becoming',\n",
        "    'been',\n",
        "    'before',\n",
        "    'beforehand',\n",
        "    'behind',\n",
        "    'being',\n",
        "    'below',\n",
        "    'beside',\n",
        "    'besides',\n",
        "    'between',\n",
        "    'beyond',\n",
        "    'bill',\n",
        "    'both',\n",
        "    'bottom',\n",
        "    'but',\n",
        "    'by',\n",
        "    'call',\n",
        "    'co',\n",
        "    'con',\n",
        "    'could',\n",
        "    'couldn',\n",
        "    'couldnt',\n",
        "    'cry',\n",
        "    'd',\n",
        "    'de',\n",
        "    'describe',\n",
        "    'detail',\n",
        "    'did',\n",
        "    'didn',\n",
        "    'do',\n",
        "    'does',\n",
        "    'doesn',\n",
        "    'doing',\n",
        "    'don',\n",
        "    'done',\n",
        "    'down',\n",
        "    'due',\n",
        "    'during',\n",
        "    'each',\n",
        "    'eg',\n",
        "    'eight',\n",
        "    'either',\n",
        "    'eleven',\n",
        "    'else',\n",
        "    'elsewhere',\n",
        "    'empty',\n",
        "    'enough',\n",
        "    'etc',\n",
        "    'even',\n",
        "    'ever',\n",
        "    'every',\n",
        "    'everyone',\n",
        "    'everything',\n",
        "    'everywhere',\n",
        "    'except',\n",
        "    'few',\n",
        "    'fifteen',\n",
        "    'fify',\n",
        "    'fill',\n",
        "    'find',\n",
        "    'fire',\n",
        "    'first',\n",
        "    'five',\n",
        "    'for',\n",
        "    'former',\n",
        "    'formerly',\n",
        "    'forty',\n",
        "    'found',\n",
        "    'four',\n",
        "    'from',\n",
        "    'front',\n",
        "    'full',\n",
        "    'further',\n",
        "    'get',\n",
        "    'give',\n",
        "    'go',\n",
        "    'had',\n",
        "    'hadn',\n",
        "    'has',\n",
        "    'hasn',\n",
        "    'hasnt',\n",
        "    'have',\n",
        "    'haven',\n",
        "    'having',\n",
        "    'he',\n",
        "    'hence',\n",
        "    'her',\n",
        "    'here',\n",
        "    'hereafter',\n",
        "    'hereby',\n",
        "    'herein',\n",
        "    'hereupon',\n",
        "    'hers',\n",
        "    'herself',\n",
        "    'him',\n",
        "    'himself',\n",
        "    'his',\n",
        "    'how',\n",
        "    'however',\n",
        "    'hundred',\n",
        "    'i',\n",
        "    'ie',\n",
        "    'if',\n",
        "    'in',\n",
        "    'inc',\n",
        "    'indeed',\n",
        "    'interest',\n",
        "    'into',\n",
        "    'is',\n",
        "    'isn',\n",
        "    'it',\n",
        "    'its',\n",
        "    'itself',\n",
        "    'just',\n",
        "    'keep',\n",
        "    'last',\n",
        "    'latter',\n",
        "    'latterly',\n",
        "    'least',\n",
        "    'less',\n",
        "    'll',\n",
        "    'ltd',\n",
        "    'm',\n",
        "    'ma',\n",
        "    'made',\n",
        "    'many',\n",
        "    'may',\n",
        "    'me',\n",
        "    'meanwhile',\n",
        "    'might',\n",
        "    'mightn',\n",
        "    'mill',\n",
        "    'mine',\n",
        "    'more',\n",
        "    'moreover',\n",
        "    'most',\n",
        "    'mostly',\n",
        "    'move',\n",
        "    'much',\n",
        "    'must',\n",
        "    'mustn',\n",
        "    'my',\n",
        "    'myself',\n",
        "    'name',\n",
        "    'namely',\n",
        "    'needn',\n",
        "    'neither',\n",
        "    'never',\n",
        "    'nevertheless',\n",
        "    'next',\n",
        "    'nine',\n",
        "    'no',\n",
        "    'nobody',\n",
        "    'none',\n",
        "    'noone',\n",
        "    'nor',\n",
        "    'nothing',\n",
        "    'now',\n",
        "    'nowhere',\n",
        "    'o',\n",
        "    'of',\n",
        "    'off',\n",
        "    'often',\n",
        "    'on',\n",
        "    'once',\n",
        "    'one',\n",
        "    'only',\n",
        "    'onto',\n",
        "    'or',\n",
        "    'other',\n",
        "    'others',\n",
        "    'otherwise',\n",
        "    'our',\n",
        "    'ours',\n",
        "    'ourselves',\n",
        "    'out',\n",
        "    'over',\n",
        "    'own',\n",
        "    'part',\n",
        "    'per',\n",
        "    'perhaps',\n",
        "    'please',\n",
        "    'put',\n",
        "    'rather',\n",
        "    're',\n",
        "    's',\n",
        "    'same',\n",
        "    'see',\n",
        "    'seem',\n",
        "    'seemed',\n",
        "    'seeming',\n",
        "    'seems',\n",
        "    'serious',\n",
        "    'several',\n",
        "    'shan',\n",
        "    'she',\n",
        "    'should',\n",
        "    'shouldn',\n",
        "    'show',\n",
        "    'side',\n",
        "    'since',\n",
        "    'sincere',\n",
        "    'six',\n",
        "    'sixty',\n",
        "    'so',\n",
        "    'some',\n",
        "    'somehow',\n",
        "    'someone',\n",
        "    'something',\n",
        "    'sometime',\n",
        "    'sometimes',\n",
        "    'somewhere',\n",
        "    'still',\n",
        "    'such',\n",
        "    'system',\n",
        "    't',\n",
        "    'take',\n",
        "    'ten',\n",
        "    'than',\n",
        "    'that',\n",
        "    'the',\n",
        "    'their',\n",
        "    'theirs',\n",
        "    'them',\n",
        "    'themselves',\n",
        "    'then',\n",
        "    'thence',\n",
        "    'there',\n",
        "    'thereafter',\n",
        "    'thereby',\n",
        "    'therefore',\n",
        "    'therein',\n",
        "    'thereupon',\n",
        "    'these',\n",
        "    'they',\n",
        "    'thick',\n",
        "    'thin',\n",
        "    'third',\n",
        "    'this',\n",
        "    'those',\n",
        "    'though',\n",
        "    'three',\n",
        "    'through',\n",
        "    'throughout',\n",
        "    'thru',\n",
        "    'thus',\n",
        "    'to',\n",
        "    'together',\n",
        "    'too',\n",
        "    'top',\n",
        "    'toward',\n",
        "    'towards',\n",
        "    'twelve',\n",
        "    'twenty',\n",
        "    'two',\n",
        "    'un',\n",
        "    'under',\n",
        "    'until',\n",
        "    'up',\n",
        "    'upon',\n",
        "    'us',\n",
        "    've',\n",
        "    'very',\n",
        "    'via',\n",
        "    'was',\n",
        "    'wasn',\n",
        "    'we',\n",
        "    'well',\n",
        "    'were',\n",
        "    'weren',\n",
        "    'what',\n",
        "    'whatever',\n",
        "    'when',\n",
        "    'whence',\n",
        "    'whenever',\n",
        "    'where',\n",
        "    'whereafter',\n",
        "    'whereas',\n",
        "    'whereby',\n",
        "    'wherein',\n",
        "    'whereupon',\n",
        "    'wherever',\n",
        "    'whether',\n",
        "    'which',\n",
        "    'while',\n",
        "    'whither',\n",
        "    'who',\n",
        "    'whoever',\n",
        "    'whole',\n",
        "    'whom',\n",
        "    'whose',\n",
        "    'why',\n",
        "    'will',\n",
        "    'with',\n",
        "    'within',\n",
        "    'without',\n",
        "    'won',\n",
        "    'would',\n",
        "    'wouldn',\n",
        "    'y',\n",
        "    'yet',\n",
        "    'you',\n",
        "    'your',\n",
        "    'yours',\n",
        "    'yourself',\n",
        "    'yourselves'\n",
        "]\n",
        "SPECIAL_CHARS = \"\\\"#$%&'()’“*+,/:;<=>@”[\\\\«]^»‘`”'-{|}~\\t\\n―\""
      ]
    },
    {
      "cell_type": "code",
      "execution_count": 3,
      "metadata": {
        "id": "eqQ2iDWS3CM_"
      },
      "outputs": [],
      "source": [
        "train_bodies_path = \"fnc-1/train_bodies.csv\"\n",
        "train_headlines_path = \"fnc-1/train_stances.csv\"\n",
        "\n",
        "test_bodies_path = \"fnc-1/competition_test_bodies.csv\"\n",
        "test_headlines_path= \"fnc-1/competition_test_stances.csv\"\n",
        "\n",
        "\n",
        "bodies_df_train = pd.read_csv(train_bodies_path)\n",
        "stances_df_train = pd.read_csv(train_headlines_path)\n",
        "df_train = pd.merge(bodies_df_train, stances_df_train, how='right', on='Body ID')\n",
        "\n",
        "bodies_df_test = pd.read_csv(test_bodies_path)\n",
        "stances_df_test = pd.read_csv(test_headlines_path)\n",
        "df_test = pd.merge(bodies_df_test, stances_df_test, how='right', on='Body ID')"
      ]
    },
    {
      "cell_type": "code",
      "execution_count": 4,
      "metadata": {
        "id": "OCREzneJnfRk"
      },
      "outputs": [],
      "source": [
        "def clean_text(text):\n",
        "  text = text.translate(str.maketrans('', '', string.punctuation))\n",
        "  no_num = re.sub(r'[0-9]', '', text)\n",
        "  no_stops = \" \".join([x for x in no_num.lower().split() if x not in ENGLISH_STOP_WORDS])\n",
        "  return no_stops"
      ]
    },
    {
      "cell_type": "code",
      "execution_count": 5,
      "metadata": {
        "id": "yloy620QK2bv"
      },
      "outputs": [],
      "source": [
        "def get_score(y_pred, y_true):\n",
        "    n = len(y_pred)\n",
        "    related = [\"agree\",\"disagree\",\"discuss\"]\n",
        "    score = 0\n",
        "    for i in range(n):\n",
        "        if y_pred[i] == y_true[i]:\n",
        "            score+=0.25\n",
        "            if y_true[i]!='unrelated':\n",
        "                score+=0.50\n",
        "        if y_pred[i] in related and y_true[i] in related:\n",
        "            score+=0.25\n",
        "    print(\"Model Score:\",score)\n",
        "    return"
      ]
    },
    {
      "cell_type": "code",
      "execution_count": 6,
      "metadata": {
        "id": "zYSuZ3yYok4p"
      },
      "outputs": [],
      "source": [
        "train_bodies_clean = bodies_df_train['articleBody'].apply(clean_text)\n",
        "train_headings_clean = stances_df_train['Headline'].apply(clean_text)\n",
        "\n",
        "test_bodies_clean = bodies_df_test['articleBody'].apply(clean_text)\n",
        "test_headings_clean = stances_df_test['Headline'].apply(clean_text)"
      ]
    },
    {
      "cell_type": "code",
      "execution_count": 7,
      "metadata": {
        "colab": {
          "base_uri": "https://localhost:8080/",
          "height": 206
        },
        "id": "nSTmMy3K2OD7",
        "outputId": "39c5ecb2-ac45-4cb5-a65e-36e2250dc693"
      },
      "outputs": [
        {
          "data": {
            "text/html": [
              "<div>\n",
              "<style scoped>\n",
              "    .dataframe tbody tr th:only-of-type {\n",
              "        vertical-align: middle;\n",
              "    }\n",
              "\n",
              "    .dataframe tbody tr th {\n",
              "        vertical-align: top;\n",
              "    }\n",
              "\n",
              "    .dataframe thead th {\n",
              "        text-align: right;\n",
              "    }\n",
              "</style>\n",
              "<table border=\"1\" class=\"dataframe\">\n",
              "  <thead>\n",
              "    <tr style=\"text-align: right;\">\n",
              "      <th></th>\n",
              "      <th>Body ID</th>\n",
              "      <th>articleBody</th>\n",
              "      <th>Headline</th>\n",
              "      <th>Stance</th>\n",
              "    </tr>\n",
              "  </thead>\n",
              "  <tbody>\n",
              "    <tr>\n",
              "      <th>0</th>\n",
              "      <td>712</td>\n",
              "      <td>Danny Boyle is directing the untitled film\\n\\n...</td>\n",
              "      <td>Police find mass graves with at least '15 bodi...</td>\n",
              "      <td>unrelated</td>\n",
              "    </tr>\n",
              "    <tr>\n",
              "      <th>1</th>\n",
              "      <td>158</td>\n",
              "      <td>Hundreds of Palestinians were evacuated from t...</td>\n",
              "      <td>Hundreds of Palestinians flee floods in Gaza a...</td>\n",
              "      <td>agree</td>\n",
              "    </tr>\n",
              "    <tr>\n",
              "      <th>2</th>\n",
              "      <td>137</td>\n",
              "      <td>30-year-old Moscow resident was hospitalized w...</td>\n",
              "      <td>Christian Bale passes on role of Steve Jobs, a...</td>\n",
              "      <td>unrelated</td>\n",
              "    </tr>\n",
              "    <tr>\n",
              "      <th>3</th>\n",
              "      <td>1034</td>\n",
              "      <td>(Reuters) - A Canadian soldier was shot at the...</td>\n",
              "      <td>HBO and Apple in Talks for $15/Month Apple TV ...</td>\n",
              "      <td>unrelated</td>\n",
              "    </tr>\n",
              "    <tr>\n",
              "      <th>4</th>\n",
              "      <td>1923</td>\n",
              "      <td>Fear not arachnophobes, the story of Bunbury's...</td>\n",
              "      <td>Spider burrowed through tourist's stomach and ...</td>\n",
              "      <td>disagree</td>\n",
              "    </tr>\n",
              "  </tbody>\n",
              "</table>\n",
              "</div>"
            ],
            "text/plain": [
              "   Body ID                                        articleBody  \\\n",
              "0      712  Danny Boyle is directing the untitled film\\n\\n...   \n",
              "1      158  Hundreds of Palestinians were evacuated from t...   \n",
              "2      137  30-year-old Moscow resident was hospitalized w...   \n",
              "3     1034  (Reuters) - A Canadian soldier was shot at the...   \n",
              "4     1923  Fear not arachnophobes, the story of Bunbury's...   \n",
              "\n",
              "                                            Headline     Stance  \n",
              "0  Police find mass graves with at least '15 bodi...  unrelated  \n",
              "1  Hundreds of Palestinians flee floods in Gaza a...      agree  \n",
              "2  Christian Bale passes on role of Steve Jobs, a...  unrelated  \n",
              "3  HBO and Apple in Talks for $15/Month Apple TV ...  unrelated  \n",
              "4  Spider burrowed through tourist's stomach and ...   disagree  "
            ]
          },
          "execution_count": 7,
          "metadata": {},
          "output_type": "execute_result"
        }
      ],
      "source": [
        "df_train.head()"
      ]
    },
    {
      "cell_type": "code",
      "execution_count": 8,
      "metadata": {
        "id": "fObT9_-e1tzo"
      },
      "outputs": [],
      "source": [
        "df_train['body_clean'] = df_train['articleBody'].apply(clean_text)\n",
        "df_train['headline_clean'] = df_train['Headline'].apply(clean_text)\n",
        "\n",
        "df_test['body_clean'] = df_test['articleBody'].apply(clean_text)\n",
        "df_test['headline_clean'] = df_test['Headline'].apply(clean_text)"
      ]
    },
    {
      "cell_type": "code",
      "execution_count": 9,
      "metadata": {
        "colab": {
          "base_uri": "https://localhost:8080/"
        },
        "id": "21_o2vSpynBK",
        "outputId": "ac08a35c-7378-46aa-ae9f-8a7906d7bae1"
      },
      "outputs": [
        {
          "name": "stdout",
          "output_type": "stream",
          "text": [
            "Train Bodies:  1683\n",
            "Train Headings:  49972\n",
            "Test Bodies:  904\n",
            "Test Headings:  25413\n"
          ]
        }
      ],
      "source": [
        "print(\"Train Bodies: \",len(train_bodies_clean))\n",
        "print(\"Train Headings: \",len(train_headings_clean))\n",
        "\n",
        "print(\"Test Bodies: \",len(test_bodies_clean))\n",
        "print(\"Test Headings: \",len(test_headings_clean))"
      ]
    },
    {
      "cell_type": "code",
      "execution_count": 10,
      "metadata": {
        "id": "btDcuVKPzk4E"
      },
      "outputs": [
        {
          "name": "stdout",
          "output_type": "stream",
          "text": [
            "Metal device set to: Apple M1\n",
            "\n",
            "systemMemory: 8.00 GB\n",
            "maxCacheSize: 2.67 GB\n",
            "\n"
          ]
        },
        {
          "name": "stderr",
          "output_type": "stream",
          "text": [
            "2022-08-05 14:23:37.187001: I tensorflow/core/common_runtime/pluggable_device/pluggable_device_factory.cc:305] Could not identify NUMA node of platform GPU ID 0, defaulting to 0. Your kernel may not have been built with NUMA support.\n",
            "2022-08-05 14:23:37.189693: I tensorflow/core/common_runtime/pluggable_device/pluggable_device_factory.cc:271] Created TensorFlow device (/job:localhost/replica:0/task:0/device:GPU:0 with 0 MB memory) -> physical PluggableDevice (device: 0, name: METAL, pci bus id: <undefined>)\n",
            "2022-08-05 14:23:37.488152: W tensorflow/core/platform/profile_utils/cpu_utils.cc:128] Failed to get CPU frequency: 0 Hz\n",
            "2022-08-05 14:23:37.850614: I tensorflow/core/grappler/optimizers/custom_graph_optimizer_registry.cc:113] Plugin optimizer for device_type GPU is enabled.\n",
            "2022-08-05 14:23:40.663338: I tensorflow/core/grappler/optimizers/custom_graph_optimizer_registry.cc:113] Plugin optimizer for device_type GPU is enabled.\n"
          ]
        }
      ],
      "source": [
        "EMBEDDING_DIM=100\n",
        "\n",
        "heading_vector_layer = TextVectorization(max_tokens=1000, output_mode='int',output_sequence_length=50)\n",
        "heading_vector_layer.adapt(train_headings_clean)\n",
        "\n",
        "body_vector_layer = TextVectorization(max_tokens=1000,output_mode='int',output_sequence_length=100)\n",
        "body_vector_layer.adapt(train_bodies_clean)"
      ]
    },
    {
      "cell_type": "code",
      "execution_count": 11,
      "metadata": {
        "id": "0cBCmGk59dfx"
      },
      "outputs": [],
      "source": [
        "h_vocab = heading_vector_layer.get_vocabulary()\n",
        "b_vocab = body_vector_layer.get_vocabulary()"
      ]
    },
    {
      "cell_type": "code",
      "execution_count": null,
      "metadata": {
        "colab": {
          "base_uri": "https://localhost:8080/"
        },
        "id": "hMqYYrIM9rhd",
        "outputId": "23102299-5d3a-42c4-86e0-79c6601adc92"
      },
      "outputs": [
        {
          "name": "stdout",
          "output_type": "stream",
          "text": [
            "--2022-08-01 05:53:11--  http://nlp.stanford.edu/data/glove.6B.zip\n",
            "Resolving nlp.stanford.edu (nlp.stanford.edu)... 171.64.67.140\n",
            "Connecting to nlp.stanford.edu (nlp.stanford.edu)|171.64.67.140|:80... connected.\n",
            "HTTP request sent, awaiting response... 302 Found\n",
            "Location: https://nlp.stanford.edu/data/glove.6B.zip [following]\n",
            "--2022-08-01 05:53:12--  https://nlp.stanford.edu/data/glove.6B.zip\n",
            "Connecting to nlp.stanford.edu (nlp.stanford.edu)|171.64.67.140|:443... connected.\n",
            "HTTP request sent, awaiting response... 301 Moved Permanently\n",
            "Location: https://downloads.cs.stanford.edu/nlp/data/glove.6B.zip [following]\n",
            "--2022-08-01 05:53:12--  https://downloads.cs.stanford.edu/nlp/data/glove.6B.zip\n",
            "Resolving downloads.cs.stanford.edu (downloads.cs.stanford.edu)... 171.64.64.22\n",
            "Connecting to downloads.cs.stanford.edu (downloads.cs.stanford.edu)|171.64.64.22|:443... connected.\n",
            "HTTP request sent, awaiting response... 200 OK\n",
            "Length: 862182613 (822M) [application/zip]\n",
            "Saving to: ‘/tmp/glove.6B.zip’\n",
            "\n",
            "/tmp/glove.6B.zip   100%[===================>] 822.24M  5.12MB/s    in 2m 39s  \n",
            "\n",
            "2022-08-01 05:55:52 (5.16 MB/s) - ‘/tmp/glove.6B.zip’ saved [862182613/862182613]\n",
            "\n"
          ]
        }
      ],
      "source": [
        "!wget --no-check-certificate \\\n",
        "     http://nlp.stanford.edu/data/glove.6B.zip \\\n",
        "     -O /content/drive/fnc/glove.6B.zip"
      ]
    },
    {
      "cell_type": "code",
      "execution_count": 12,
      "metadata": {},
      "outputs": [
        {
          "name": "stdout",
          "output_type": "stream",
          "text": [
            "Ahmed_Anwar_GradientBoostingClassifier_Milestone1.zip\n",
            "Bert.ipynb\n",
            "Conditional_Encoding.ipynb\n",
            "Encoder_decoder.ipynb\n",
            "LICENSE\n",
            "README.md\n",
            "Transformers.ipynb\n",
            "\u001b[34m__pycache__\u001b[m\u001b[m\n",
            "answer.csv\n",
            "answer_bert.csv\n",
            "cosine.ipynb\n",
            "feature_engineering.py\n",
            "\u001b[34mfeatures\u001b[m\u001b[m\n",
            "\u001b[34mfnc-1\u001b[m\u001b[m\n",
            "fnc.ipynb\n",
            "fnc_kfold.py\n",
            "\u001b[34mglove\u001b[m\u001b[m\n",
            "glove.6B.zip\n",
            "\u001b[34mmilestone2\u001b[m\u001b[m\n",
            "milestone2.ipynb\n",
            "model.png\n",
            "multi_input_and_output_model.png\n",
            "mymodel.h5\n",
            "neg.txt\n",
            "pos.txt\n",
            "predictions.pkl\n",
            "requirements.txt\n",
            "scores\n",
            "\u001b[34msplits\u001b[m\u001b[m\n",
            "\u001b[34mutils\u001b[m\u001b[m\n",
            "x_competition.pkl\n"
          ]
        }
      ],
      "source": [
        "!ls"
      ]
    },
    {
      "cell_type": "code",
      "execution_count": null,
      "metadata": {
        "id": "NwkCci4A9z5X"
      },
      "outputs": [],
      "source": [
        "import os\n",
        "import zipfile\n",
        "with zipfile.ZipFile('/content/drive/MyDrive/fnc/glove.6B.zip', 'r') as zip_ref:\n",
        "    zip_ref.extractall('/content/drive/MyDrive/fnc/glove')"
      ]
    },
    {
      "cell_type": "code",
      "execution_count": 13,
      "metadata": {
        "colab": {
          "base_uri": "https://localhost:8080/"
        },
        "id": "Bfc5BNT191pa",
        "outputId": "0f7bbc03-652b-4f26-d433-fda64ed70cb9"
      },
      "outputs": [
        {
          "name": "stdout",
          "output_type": "stream",
          "text": [
            "Found 400000 word vectors.\n"
          ]
        }
      ],
      "source": [
        "import numpy as np\n",
        "embeddings_index = {}\n",
        "f = open('glove/glove.6B.100d.txt')\n",
        "for line in f:\n",
        "    values = line.split()\n",
        "    word = values[0]\n",
        "    coefs = np.asarray(values[1:], dtype='float32')\n",
        "    embeddings_index[word] = coefs\n",
        "f.close()\n",
        "\n",
        "print('Found %s word vectors.' % len(embeddings_index))"
      ]
    },
    {
      "cell_type": "code",
      "execution_count": 14,
      "metadata": {
        "id": "FB_wIRTj96El"
      },
      "outputs": [],
      "source": [
        "max_length = 100\n",
        "padding_type='post'\n",
        "truncation_type='post'\n",
        "\n",
        "not_found = 0\n",
        "embedding_matrix_heading = np.zeros((len(h_vocab) + 1, max_length))\n",
        "for i, word in enumerate(h_vocab):\n",
        "    embedding_vector = embeddings_index.get(word)\n",
        "    if embedding_vector is not None:\n",
        "        # words not found in embedding index will be all-zeros.\n",
        "        embedding_matrix_heading[i] = embedding_vector\n",
        "\n",
        "embedding_matrix_body = np.zeros((len(b_vocab) + 1, max_length))\n",
        "for i, word in enumerate(b_vocab):\n",
        "    embedding_vector = embeddings_index.get(word)\n",
        "    if embedding_vector is not None:\n",
        "        # words not found in embedding index will be all-zeros.\n",
        "        embedding_matrix_body[i] = embedding_vector\n"
      ]
    },
    {
      "cell_type": "markdown",
      "metadata": {
        "id": "vEEkoc-k3eZV"
      },
      "source": [
        "#### Text Vectorization Layer"
      ]
    },
    {
      "cell_type": "markdown",
      "metadata": {
        "id": "J3WiBMWN3hZ8"
      },
      "source": [
        "#### Model Cnstruction"
      ]
    },
    {
      "cell_type": "code",
      "execution_count": 15,
      "metadata": {
        "colab": {
          "base_uri": "https://localhost:8080/",
          "height": 754
        },
        "id": "el6h4Zw_3dWw",
        "outputId": "53e4fa60-6e9c-4b69-d172-f9323ce6a43b"
      },
      "outputs": [
        {
          "data": {
            "image/png": "[encoded data removed]",
            "text/plain": [
              "<IPython.core.display.Image object>"
            ]
          },
          "execution_count": 15,
          "metadata": {},
          "output_type": "execute_result"
        }
      ],
      "source": [
        "heading_input = Input(shape=(1,),name='heading',dtype=tf.string)\n",
        "heading_vectors = heading_vector_layer(heading_input)\n",
        "h_embedding_layer = Embedding(input_dim=1001, output_dim=EMBEDDING_DIM, trainable=True, weights=[embedding_matrix_heading])\n",
        "h_features = h_embedding_layer(heading_vectors)\n",
        "\n",
        "encoder = LSTM(256, return_state=True)\n",
        "encoder_outputs, state_h, state_c = encoder(h_features)\n",
        "encoder_states = [state_h,state_c] \n",
        "\n",
        "body_input = Input(shape=(1,),name='body', dtype=tf.string)\n",
        "body_vectors = body_vector_layer(body_input)\n",
        "b_embedding_layer = Embedding(input_dim=1001, output_dim=EMBEDDING_DIM, trainable=True, weights=[embedding_matrix_body])\n",
        "b_features = b_embedding_layer(body_vectors)\n",
        "decoder_lstm = LSTM(256)\n",
        "decoder_outputs= decoder_lstm(b_features, initial_state=encoder_states)\n",
        "\n",
        "drop1 = Dropout(0.4)\n",
        "drop1_out = drop1(decoder_outputs)\n",
        "\n",
        "decoder_dense = Dense(4, activation='softmax',name='stance')\n",
        "decoder_outputs = decoder_dense(drop1_out)\n",
        "\n",
        "\n",
        "\n",
        "model = tf.keras.Model(\n",
        "    inputs=[heading_input,body_input],\n",
        "    outputs = [decoder_outputs])\n",
        "\n",
        "#plot the model\n",
        "tf.keras.utils.plot_model(model,  show_shapes=True)"
      ]
    },
    {
      "cell_type": "code",
      "execution_count": 16,
      "metadata": {
        "id": "RL0YSrahfCZy"
      },
      "outputs": [],
      "source": [
        "model.compile(optimizer='adam',loss='sparse_categorical_crossentropy', metrics=['accuracy'])"
      ]
    },
    {
      "cell_type": "code",
      "execution_count": 17,
      "metadata": {
        "id": "rbc28ZsNfP-W"
      },
      "outputs": [],
      "source": [
        "LABELS_MAP = {'agree':0, 'disagree':1, 'discuss':2, 'unrelated':3}\n",
        "labels_train = [LABELS_MAP[x] for x in df_train['Stance']]\n",
        "labels_test = [LABELS_MAP[x] for x in df_test['Stance']]"
      ]
    },
    {
      "cell_type": "code",
      "execution_count": 18,
      "metadata": {
        "colab": {
          "base_uri": "https://localhost:8080/",
          "height": 407
        },
        "id": "zmT_CUkRfJPG",
        "outputId": "52b44d5c-437c-4e33-9120-27c36a9b2a1c"
      },
      "outputs": [
        {
          "name": "stdout",
          "output_type": "stream",
          "text": [
            "Epoch 1/10\n"
          ]
        },
        {
          "name": "stderr",
          "output_type": "stream",
          "text": [
            "2022-08-05 14:26:10.706694: I tensorflow/core/grappler/optimizers/custom_graph_optimizer_registry.cc:113] Plugin optimizer for device_type GPU is enabled.\n",
            "2022-08-05 14:26:11.798425: I tensorflow/core/grappler/optimizers/custom_graph_optimizer_registry.cc:113] Plugin optimizer for device_type GPU is enabled.\n",
            "2022-08-05 14:26:12.696655: I tensorflow/core/grappler/optimizers/custom_graph_optimizer_registry.cc:113] Plugin optimizer for device_type GPU is enabled.\n",
            "2022-08-05 14:26:13.590831: I tensorflow/core/grappler/optimizers/custom_graph_optimizer_registry.cc:113] Plugin optimizer for device_type GPU is enabled.\n",
            "2022-08-05 14:26:14.480056: I tensorflow/core/grappler/optimizers/custom_graph_optimizer_registry.cc:113] Plugin optimizer for device_type GPU is enabled.\n"
          ]
        },
        {
          "name": "stdout",
          "output_type": "stream",
          "text": [
            "781/781 [==============================] - ETA: 0s - loss: 0.7270 - accuracy: 0.7440"
          ]
        },
        {
          "name": "stderr",
          "output_type": "stream",
          "text": [
            "2022-08-05 14:28:47.038843: I tensorflow/core/grappler/optimizers/custom_graph_optimizer_registry.cc:113] Plugin optimizer for device_type GPU is enabled.\n",
            "2022-08-05 14:28:47.460000: I tensorflow/core/grappler/optimizers/custom_graph_optimizer_registry.cc:113] Plugin optimizer for device_type GPU is enabled.\n",
            "2022-08-05 14:28:48.013114: I tensorflow/core/grappler/optimizers/custom_graph_optimizer_registry.cc:113] Plugin optimizer for device_type GPU is enabled.\n"
          ]
        },
        {
          "name": "stdout",
          "output_type": "stream",
          "text": [
            "781/781 [==============================] - 190s 230ms/step - loss: 0.7270 - accuracy: 0.7440 - val_loss: 0.9116 - val_accuracy: 0.6924\n",
            "Epoch 2/10\n",
            "781/781 [==============================] - 185s 237ms/step - loss: 0.6171 - accuracy: 0.7772 - val_loss: 1.0168 - val_accuracy: 0.6472\n",
            "Epoch 3/10\n",
            "781/781 [==============================] - 85s 109ms/step - loss: 0.5726 - accuracy: 0.7878 - val_loss: 1.0317 - val_accuracy: 0.6405\n",
            "Epoch 4/10\n",
            "781/781 [==============================] - 93s 119ms/step - loss: 0.5481 - accuracy: 0.7966 - val_loss: 1.1052 - val_accuracy: 0.6058\n",
            "Epoch 5/10\n",
            "781/781 [==============================] - 95s 122ms/step - loss: 0.5296 - accuracy: 0.8031 - val_loss: 1.1256 - val_accuracy: 0.6060\n",
            "Epoch 6/10\n",
            "781/781 [==============================] - 99s 127ms/step - loss: 0.5172 - accuracy: 0.8071 - val_loss: 1.2179 - val_accuracy: 0.5932\n",
            "Epoch 7/10\n",
            "781/781 [==============================] - 101s 129ms/step - loss: 0.5081 - accuracy: 0.8104 - val_loss: 1.1638 - val_accuracy: 0.5917\n",
            "Epoch 8/10\n",
            "781/781 [==============================] - 100s 128ms/step - loss: 0.5058 - accuracy: 0.8109 - val_loss: 1.2796 - val_accuracy: 0.5614\n",
            "Epoch 9/10\n",
            "781/781 [==============================] - 524s 672ms/step - loss: 0.4965 - accuracy: 0.8143 - val_loss: 1.2667 - val_accuracy: 0.5696\n",
            "Epoch 10/10\n",
            "781/781 [==============================] - 82s 104ms/step - loss: 0.4927 - accuracy: 0.8146 - val_loss: 1.2092 - val_accuracy: 0.5812\n"
          ]
        }
      ],
      "source": [
        "history = model.fit(\n",
        "    x={'heading': np.array(df_train['headline_clean']), 'body':np.array(df_train['body_clean'])},y={'stance':np.array(labels_train)},\n",
        "    epochs=10, workers=6, use_multiprocessing=True, batch_size=64,\n",
        "    validation_data=[{'heading':np.array(df_test['headline_clean']), 'body':np.array(df_test['body_clean'])},{'stance':np.array(labels_test)}]\n",
        ")"
      ]
    },
    {
      "cell_type": "code",
      "execution_count": 20,
      "metadata": {},
      "outputs": [
        {
          "name": "stderr",
          "output_type": "stream",
          "text": [
            "2022-08-05 15:25:38.801834: I tensorflow/core/grappler/optimizers/custom_graph_optimizer_registry.cc:113] Plugin optimizer for device_type GPU is enabled.\n",
            "2022-08-05 15:25:39.242171: I tensorflow/core/grappler/optimizers/custom_graph_optimizer_registry.cc:113] Plugin optimizer for device_type GPU is enabled.\n",
            "2022-08-05 15:25:39.566953: I tensorflow/core/grappler/optimizers/custom_graph_optimizer_registry.cc:113] Plugin optimizer for device_type GPU is enabled.\n"
          ]
        }
      ],
      "source": [
        "model_predictions = model.predict(x={'heading':np.array(df_test['headline_clean']), 'body':np.array(df_test['body_clean'])})\n",
        "\n",
        "Int_to_label = {0:'agree', 1:'disagree', 2:'discuss', 3:'unrelated'}\n",
        "y_pred = [Int_to_label[y] for y in [x.argmax() for x in model_predictions]]"
      ]
    },
    {
      "cell_type": "code",
      "execution_count": 21,
      "metadata": {},
      "outputs": [
        {
          "name": "stdout",
          "output_type": "stream",
          "text": [
            "Model Score: 4700.75\n"
          ]
        }
      ],
      "source": [
        "get_score(y_pred, df_test['Stance'])"
      ]
    }
  ],
  "metadata": {
    "colab": {
      "name": "Conditional_Encoding.ipynb",
      "provenance": []
    },
    "gpuClass": "standard",
    "kernelspec": {
      "display_name": "Python 3.8.12",
      "language": "python",
      "name": "python3"
    },
    "language_info": {
      "codemirror_mode": {
        "name": "ipython",
        "version": 3
      },
      "file_extension": ".py",
      "mimetype": "text/x-python",
      "name": "python",
      "nbconvert_exporter": "python",
      "pygments_lexer": "ipython3",
      "version": "3.8.12"
    },
    "vscode": {
      "interpreter": {
        "hash": "6d476cd88101c03209ae5552337558de2c7e7949c980a64c558f6635815b675c"
      }
    }
  },
  "nbformat": 4,
  "nbformat_minor": 0
}
